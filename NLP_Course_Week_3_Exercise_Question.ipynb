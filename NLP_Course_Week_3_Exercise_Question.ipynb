{
  "nbformat": 4,
  "nbformat_minor": 0,
  "metadata": {
    "accelerator": "GPU",
    "colab": {
      "name": "NLP Course - Week 3 Exercise Question.ipynb",
      "provenance": [],
      "toc_visible": true
    },
    "kernelspec": {
      "display_name": "Python 3",
      "name": "python3"
    }
  },
  "cells": [
    {
      "cell_type": "code",
      "metadata": {
        "id": "zX4Kg8DUTKWO",
        "colab_type": "code",
        "colab": {}
      },
      "source": [
        "#@title Licensed under the Apache License, Version 2.0 (the \"License\");\n",
        "# you may not use this file except in compliance with the License.\n",
        "# You may obtain a copy of the License at\n",
        "#\n",
        "# https://www.apache.org/licenses/LICENSE-2.0\n",
        "#\n",
        "# Unless required by applicable law or agreed to in writing, software\n",
        "# distributed under the License is distributed on an \"AS IS\" BASIS,\n",
        "# WITHOUT WARRANTIES OR CONDITIONS OF ANY KIND, either express or implied.\n",
        "# See the License for the specific language governing permissions and\n",
        "# limitations under the License."
      ],
      "execution_count": 1,
      "outputs": []
    },
    {
      "cell_type": "code",
      "metadata": {
        "colab_type": "code",
        "id": "hmA6EzkQJ5jt",
        "colab": {}
      },
      "source": [
        "import json\n",
        "import tensorflow as tf\n",
        "import csv\n",
        "import random\n",
        "import numpy as np\n",
        "\n",
        "from tensorflow.keras.preprocessing.text import Tokenizer\n",
        "from tensorflow.keras.preprocessing.sequence import pad_sequences\n",
        "from tensorflow.keras.utils import to_categorical\n",
        "from tensorflow.keras import regularizers\n",
        "\n",
        "\n",
        "embedding_dim = 100\n",
        "max_length = 16\n",
        "trunc_type='post'\n",
        "padding_type='post'\n",
        "oov_tok = \"<OOV>\"\n",
        "training_size= 160000\n",
        "test_portion=.1\n",
        "\n",
        "corpus = []\n"
      ],
      "execution_count": 2,
      "outputs": []
    },
    {
      "cell_type": "code",
      "metadata": {
        "colab_type": "code",
        "id": "bM0l_dORKqE0",
        "colab": {}
      },
      "source": [
        "# Note that I cleaned the Stanford dataset to remove LATIN1 encoding to make it easier for Python CSV reader\n",
        "# You can do that yourself with:\n",
        "# iconv -f LATIN1 -t UTF8 training.1600000.processed.noemoticon.csv -o training_cleaned.csv\n",
        "# I then hosted it on my site to make it easier to use in this notebook\n",
        "\n",
        "!wget --no-check-certificate \\\n",
        "    https://storage.googleapis.com/laurencemoroney-blog.appspot.com/training_cleaned.csv \\\n",
        "    -O /tmp/training_cleaned.csv\n",
        "\n",
        "num_sentences = 0\n",
        "\n",
        "with open(\"/tmp/training_cleaned.csv\") as csvfile:\n",
        "    reader = csv.reader(csvfile, delimiter=',')\n",
        "    for row in reader:\n",
        "      # Your Code here. Create list items where the first item is the text, found in row[5], and the second is the label. Note that the label is a '0' or a '4' in the text. When it's the former, make\n",
        "      # your label to be 0, otherwise 1. Keep a count of the number of sentences in num_sentences\n",
        "      list_item = []\n",
        "      list_item.append(row[5])\n",
        "      list_item.append(0 if row[0] == '0' else 1)\n",
        "      # YOUR CODE HERE\n",
        "      num_sentences = num_sentences + 1\n",
        "      corpus.append(list_item)\n"
      ],
      "execution_count": null,
      "outputs": []
    },
    {
      "cell_type": "code",
      "metadata": {
        "colab_type": "code",
        "id": "3kxblBUjEUX-",
        "colab": {
          "base_uri": "https://localhost:8080/",
          "height": 68
        },
        "outputId": "d181e869-fd26-4222-ef7d-b78e8c1b48b5"
      },
      "source": [
        "print(num_sentences)\n",
        "print(len(corpus))\n",
        "print(corpus[1])\n",
        "\n",
        "# Expected Output:\n",
        "# 1600000\n",
        "# 1600000\n",
        "# [\"is upset that he can't update his Facebook by texting it... and might cry as a result  School today also. Blah!\", 0]"
      ],
      "execution_count": 4,
      "outputs": [
        {
          "output_type": "stream",
          "text": [
            "1600000\n",
            "1600000\n",
            "[\"is upset that he can't update his Facebook by texting it... and might cry as a result  School today also. Blah!\", 0]\n"
          ],
          "name": "stdout"
        }
      ]
    },
    {
      "cell_type": "code",
      "metadata": {
        "colab_type": "code",
        "id": "ohOGz24lsNAD",
        "colab": {}
      },
      "source": [
        "sentences=[]\n",
        "labels=[]\n",
        "random.shuffle(corpus)\n",
        "for x in range(training_size):\n",
        "    sentences.append(corpus[x][0])\n",
        "    labels.append(corpus[x][1])\n",
        "\n",
        "tokenizer = Tokenizer()\n",
        "tokenizer.fit_on_texts(sentences)\n",
        "\n",
        "word_index = tokenizer.word_index\n",
        "vocab_size = len(word_index)\n",
        "\n",
        "sequences = tokenizer.texts_to_sequences(sentences)\n",
        "padded = pad_sequences(sequences)\n",
        "\n",
        "split = int(test_portion * training_size)\n",
        "\n",
        "test_sequences = padded[:split]\n",
        "training_sequences = padded[split:training_size]\n",
        "test_labels = labels[:split]\n",
        "training_labels = labels[split:training_size]"
      ],
      "execution_count": 5,
      "outputs": []
    },
    {
      "cell_type": "code",
      "metadata": {
        "colab_type": "code",
        "id": "gIrtRem1En3N",
        "colab": {
          "base_uri": "https://localhost:8080/",
          "height": 51
        },
        "outputId": "dcf93df5-c1a6-471e-946b-ad4f3704cb75"
      },
      "source": [
        "print(vocab_size)\n",
        "print(word_index['i'])\n",
        "# Expected Output\n",
        "# 138858\n",
        "# 1"
      ],
      "execution_count": 6,
      "outputs": [
        {
          "output_type": "stream",
          "text": [
            "138240\n",
            "1\n"
          ],
          "name": "stdout"
        }
      ]
    },
    {
      "cell_type": "code",
      "metadata": {
        "colab_type": "code",
        "id": "C1zdgJkusRh0",
        "colab": {
          "base_uri": "https://localhost:8080/",
          "height": 204
        },
        "outputId": "23101558-cdfb-4a43-854a-cb1a2ef1109c"
      },
      "source": [
        "# Note this is the 100 dimension version of GloVe from Stanford\n",
        "# I unzipped and hosted it on my site to make this notebook easier\n",
        "!wget --no-check-certificate \\\n",
        "    https://storage.googleapis.com/laurencemoroney-blog.appspot.com/glove.6B.100d.txt \\\n",
        "    -O /tmp/glove.6B.100d.txt\n",
        "embeddings_index = {};\n",
        "with open('/tmp/glove.6B.100d.txt') as f:\n",
        "    for line in f:\n",
        "        values = line.split();\n",
        "        word = values[0];\n",
        "        coefs = np.asarray(values[1:], dtype='float32');\n",
        "        embeddings_index[word] = coefs;\n",
        "\n",
        "embeddings_matrix = np.zeros((vocab_size+1, embedding_dim));\n",
        "for word, i in word_index.items():\n",
        "    embedding_vector = embeddings_index.get(word);\n",
        "    if embedding_vector is not None:\n",
        "        embeddings_matrix[i] = embedding_vector;"
      ],
      "execution_count": 7,
      "outputs": [
        {
          "output_type": "stream",
          "text": [
            "--2020-07-16 20:47:02--  https://storage.googleapis.com/laurencemoroney-blog.appspot.com/glove.6B.100d.txt\n",
            "Resolving storage.googleapis.com (storage.googleapis.com)... 74.125.124.128, 172.217.212.128, 172.217.214.128, ...\n",
            "Connecting to storage.googleapis.com (storage.googleapis.com)|74.125.124.128|:443... connected.\n",
            "HTTP request sent, awaiting response... 200 OK\n",
            "Length: 347116733 (331M) [text/plain]\n",
            "Saving to: ‘/tmp/glove.6B.100d.txt’\n",
            "\n",
            "/tmp/glove.6B.100d. 100%[===================>] 331.04M   128MB/s    in 2.6s    \n",
            "\n",
            "2020-07-16 20:47:05 (128 MB/s) - ‘/tmp/glove.6B.100d.txt’ saved [347116733/347116733]\n",
            "\n"
          ],
          "name": "stdout"
        }
      ]
    },
    {
      "cell_type": "code",
      "metadata": {
        "colab_type": "code",
        "id": "71NLk_lpFLNt",
        "colab": {
          "base_uri": "https://localhost:8080/",
          "height": 34
        },
        "outputId": "6fa69610-e230-4abb-b1d6-1739f3cab18a"
      },
      "source": [
        "print(len(embeddings_matrix))\n",
        "# Expected Output\n",
        "# 138859"
      ],
      "execution_count": 8,
      "outputs": [
        {
          "output_type": "stream",
          "text": [
            "138241\n"
          ],
          "name": "stdout"
        }
      ]
    },
    {
      "cell_type": "code",
      "metadata": {
        "colab_type": "code",
        "id": "iKKvbuEBOGFz",
        "colab": {
          "base_uri": "https://localhost:8080/",
          "height": 1000
        },
        "outputId": "53df0c2b-1414-4769-9fa8-b4c73d66a546"
      },
      "source": [
        "model = tf.keras.Sequential([\n",
        "    tf.keras.layers.Embedding(vocab_size+1, embedding_dim, input_length=max_length, weights=[embeddings_matrix], trainable=False),\n",
        "    tf.keras.layers.Dropout(0.2),\n",
        "    tf.keras.layers.Conv1D(64, 5, activation='relu'),\n",
        "    tf.keras.layers.MaxPooling1D(pool_size=4),\n",
        "    tf.keras.layers.GlobalAveragePooling1D(),\n",
        "    tf.keras.layers.Dense(128, activation='relu'),\n",
        "    tf.keras.layers.Dense(1, activation='sigmoid')\n",
        "])\n",
        "model.compile(loss='binary_crossentropy',optimizer='adam',metrics=['accuracy'])\n",
        "model.summary()\n",
        "\n",
        "num_epochs = 50\n",
        "history = model.fit(np.array(training_sequences), np.array(training_labels), \n",
        "                    validation_data=(np.array(test_sequences), np.array(test_labels)), \n",
        "                    epochs=num_epochs, \n",
        "                    verbose=2)\n",
        "\n",
        "print(\"Training Complete\")"
      ],
      "execution_count": 11,
      "outputs": [
        {
          "output_type": "stream",
          "text": [
            "Model: \"sequential_2\"\n",
            "_________________________________________________________________\n",
            "Layer (type)                 Output Shape              Param #   \n",
            "=================================================================\n",
            "embedding_2 (Embedding)      (None, 16, 100)           13824100  \n",
            "_________________________________________________________________\n",
            "dropout_1 (Dropout)          (None, 16, 100)           0         \n",
            "_________________________________________________________________\n",
            "conv1d_2 (Conv1D)            (None, 12, 64)            32064     \n",
            "_________________________________________________________________\n",
            "max_pooling1d_1 (MaxPooling1 (None, 3, 64)             0         \n",
            "_________________________________________________________________\n",
            "global_average_pooling1d_1 ( (None, 64)                0         \n",
            "_________________________________________________________________\n",
            "dense_4 (Dense)              (None, 128)               8320      \n",
            "_________________________________________________________________\n",
            "dense_5 (Dense)              (None, 1)                 129       \n",
            "=================================================================\n",
            "Total params: 13,864,613\n",
            "Trainable params: 40,513\n",
            "Non-trainable params: 13,824,100\n",
            "_________________________________________________________________\n",
            "Epoch 1/50\n",
            "WARNING:tensorflow:Model was constructed with shape (None, 16) for input Tensor(\"embedding_2_input:0\", shape=(None, 16), dtype=float32), but it was called on an input with incompatible shape (32, 118).\n",
            "WARNING:tensorflow:Model was constructed with shape (None, 16) for input Tensor(\"embedding_2_input:0\", shape=(None, 16), dtype=float32), but it was called on an input with incompatible shape (32, 118).\n",
            "WARNING:tensorflow:Model was constructed with shape (None, 16) for input Tensor(\"embedding_2_input:0\", shape=(None, 16), dtype=float32), but it was called on an input with incompatible shape (32, 118).\n",
            "4500/4500 - 21s - loss: 0.5983 - accuracy: 0.6743 - val_loss: 0.5847 - val_accuracy: 0.6868\n",
            "Epoch 2/50\n",
            "4500/4500 - 21s - loss: 0.5650 - accuracy: 0.7042 - val_loss: 0.5481 - val_accuracy: 0.7218\n",
            "Epoch 3/50\n",
            "4500/4500 - 21s - loss: 0.5496 - accuracy: 0.7161 - val_loss: 0.5418 - val_accuracy: 0.7212\n",
            "Epoch 4/50\n",
            "4500/4500 - 21s - loss: 0.5410 - accuracy: 0.7216 - val_loss: 0.5355 - val_accuracy: 0.7299\n",
            "Epoch 5/50\n",
            "4500/4500 - 21s - loss: 0.5340 - accuracy: 0.7287 - val_loss: 0.5340 - val_accuracy: 0.7276\n",
            "Epoch 6/50\n",
            "4500/4500 - 21s - loss: 0.5292 - accuracy: 0.7316 - val_loss: 0.5347 - val_accuracy: 0.7297\n",
            "Epoch 7/50\n",
            "4500/4500 - 21s - loss: 0.5235 - accuracy: 0.7349 - val_loss: 0.5335 - val_accuracy: 0.7326\n",
            "Epoch 8/50\n",
            "4500/4500 - 21s - loss: 0.5204 - accuracy: 0.7376 - val_loss: 0.5339 - val_accuracy: 0.7309\n",
            "Epoch 9/50\n",
            "4500/4500 - 21s - loss: 0.5169 - accuracy: 0.7402 - val_loss: 0.5316 - val_accuracy: 0.7316\n",
            "Epoch 10/50\n",
            "4500/4500 - 21s - loss: 0.5123 - accuracy: 0.7436 - val_loss: 0.5371 - val_accuracy: 0.7287\n",
            "Epoch 11/50\n",
            "4500/4500 - 21s - loss: 0.5100 - accuracy: 0.7439 - val_loss: 0.5334 - val_accuracy: 0.7295\n",
            "Epoch 12/50\n",
            "4500/4500 - 21s - loss: 0.5070 - accuracy: 0.7472 - val_loss: 0.5346 - val_accuracy: 0.7289\n",
            "Epoch 13/50\n",
            "4500/4500 - 21s - loss: 0.5062 - accuracy: 0.7475 - val_loss: 0.5323 - val_accuracy: 0.7305\n",
            "Epoch 14/50\n",
            "4500/4500 - 21s - loss: 0.5045 - accuracy: 0.7490 - val_loss: 0.5339 - val_accuracy: 0.7315\n",
            "Epoch 15/50\n",
            "4500/4500 - 22s - loss: 0.5025 - accuracy: 0.7498 - val_loss: 0.5362 - val_accuracy: 0.7304\n",
            "Epoch 16/50\n",
            "4500/4500 - 21s - loss: 0.4999 - accuracy: 0.7518 - val_loss: 0.5391 - val_accuracy: 0.7275\n",
            "Epoch 17/50\n",
            "4500/4500 - 21s - loss: 0.4990 - accuracy: 0.7512 - val_loss: 0.5344 - val_accuracy: 0.7308\n",
            "Epoch 18/50\n",
            "4500/4500 - 21s - loss: 0.4965 - accuracy: 0.7526 - val_loss: 0.5360 - val_accuracy: 0.7279\n",
            "Epoch 19/50\n",
            "4500/4500 - 21s - loss: 0.4952 - accuracy: 0.7543 - val_loss: 0.5399 - val_accuracy: 0.7312\n",
            "Epoch 20/50\n",
            "4500/4500 - 21s - loss: 0.4940 - accuracy: 0.7542 - val_loss: 0.5364 - val_accuracy: 0.7314\n",
            "Epoch 21/50\n",
            "4500/4500 - 21s - loss: 0.4920 - accuracy: 0.7559 - val_loss: 0.5391 - val_accuracy: 0.7283\n",
            "Epoch 22/50\n",
            "4500/4500 - 21s - loss: 0.4910 - accuracy: 0.7568 - val_loss: 0.5396 - val_accuracy: 0.7272\n",
            "Epoch 23/50\n",
            "4500/4500 - 21s - loss: 0.4891 - accuracy: 0.7585 - val_loss: 0.5400 - val_accuracy: 0.7303\n",
            "Epoch 24/50\n",
            "4500/4500 - 21s - loss: 0.4902 - accuracy: 0.7584 - val_loss: 0.5496 - val_accuracy: 0.7217\n",
            "Epoch 25/50\n",
            "4500/4500 - 21s - loss: 0.4868 - accuracy: 0.7598 - val_loss: 0.5387 - val_accuracy: 0.7286\n",
            "Epoch 26/50\n",
            "4500/4500 - 21s - loss: 0.4866 - accuracy: 0.7598 - val_loss: 0.5416 - val_accuracy: 0.7285\n",
            "Epoch 27/50\n",
            "4500/4500 - 21s - loss: 0.4847 - accuracy: 0.7603 - val_loss: 0.5370 - val_accuracy: 0.7327\n",
            "Epoch 28/50\n",
            "4500/4500 - 21s - loss: 0.4837 - accuracy: 0.7630 - val_loss: 0.5398 - val_accuracy: 0.7299\n",
            "Epoch 29/50\n",
            "4500/4500 - 21s - loss: 0.4838 - accuracy: 0.7623 - val_loss: 0.5383 - val_accuracy: 0.7294\n",
            "Epoch 30/50\n",
            "4500/4500 - 22s - loss: 0.4833 - accuracy: 0.7617 - val_loss: 0.5432 - val_accuracy: 0.7259\n",
            "Epoch 31/50\n",
            "4500/4500 - 21s - loss: 0.4823 - accuracy: 0.7629 - val_loss: 0.5386 - val_accuracy: 0.7293\n",
            "Epoch 32/50\n",
            "4500/4500 - 21s - loss: 0.4807 - accuracy: 0.7639 - val_loss: 0.5417 - val_accuracy: 0.7308\n",
            "Epoch 33/50\n",
            "4500/4500 - 21s - loss: 0.4807 - accuracy: 0.7623 - val_loss: 0.5432 - val_accuracy: 0.7295\n",
            "Epoch 34/50\n",
            "4500/4500 - 21s - loss: 0.4797 - accuracy: 0.7634 - val_loss: 0.5474 - val_accuracy: 0.7303\n",
            "Epoch 35/50\n",
            "4500/4500 - 21s - loss: 0.4796 - accuracy: 0.7652 - val_loss: 0.5438 - val_accuracy: 0.7258\n",
            "Epoch 36/50\n",
            "4500/4500 - 21s - loss: 0.4780 - accuracy: 0.7653 - val_loss: 0.5511 - val_accuracy: 0.7211\n",
            "Epoch 37/50\n",
            "4500/4500 - 21s - loss: 0.4772 - accuracy: 0.7637 - val_loss: 0.5377 - val_accuracy: 0.7288\n",
            "Epoch 38/50\n",
            "4500/4500 - 21s - loss: 0.4777 - accuracy: 0.7642 - val_loss: 0.5438 - val_accuracy: 0.7284\n",
            "Epoch 39/50\n",
            "4500/4500 - 22s - loss: 0.4758 - accuracy: 0.7660 - val_loss: 0.5422 - val_accuracy: 0.7291\n",
            "Epoch 40/50\n",
            "4500/4500 - 21s - loss: 0.4760 - accuracy: 0.7667 - val_loss: 0.5448 - val_accuracy: 0.7274\n",
            "Epoch 41/50\n",
            "4500/4500 - 21s - loss: 0.4743 - accuracy: 0.7674 - val_loss: 0.5651 - val_accuracy: 0.7081\n",
            "Epoch 42/50\n",
            "4500/4500 - 21s - loss: 0.4747 - accuracy: 0.7662 - val_loss: 0.5431 - val_accuracy: 0.7308\n",
            "Epoch 43/50\n",
            "4500/4500 - 21s - loss: 0.4735 - accuracy: 0.7675 - val_loss: 0.5410 - val_accuracy: 0.7315\n",
            "Epoch 44/50\n",
            "4500/4500 - 21s - loss: 0.4730 - accuracy: 0.7685 - val_loss: 0.5454 - val_accuracy: 0.7279\n",
            "Epoch 45/50\n",
            "4500/4500 - 22s - loss: 0.4725 - accuracy: 0.7683 - val_loss: 0.5492 - val_accuracy: 0.7267\n",
            "Epoch 46/50\n",
            "4500/4500 - 21s - loss: 0.4715 - accuracy: 0.7691 - val_loss: 0.5434 - val_accuracy: 0.7274\n",
            "Epoch 47/50\n",
            "4500/4500 - 21s - loss: 0.4718 - accuracy: 0.7679 - val_loss: 0.5420 - val_accuracy: 0.7298\n",
            "Epoch 48/50\n",
            "4500/4500 - 21s - loss: 0.4704 - accuracy: 0.7689 - val_loss: 0.5421 - val_accuracy: 0.7277\n",
            "Epoch 49/50\n",
            "4500/4500 - 21s - loss: 0.4710 - accuracy: 0.7696 - val_loss: 0.5431 - val_accuracy: 0.7300\n",
            "Epoch 50/50\n",
            "4500/4500 - 21s - loss: 0.4703 - accuracy: 0.7690 - val_loss: 0.5541 - val_accuracy: 0.7244\n",
            "Training Complete\n"
          ],
          "name": "stdout"
        }
      ]
    },
    {
      "cell_type": "code",
      "metadata": {
        "colab_type": "code",
        "id": "qxju4ItJKO8F",
        "colab": {
          "base_uri": "https://localhost:8080/",
          "height": 231
        },
        "outputId": "8d8218d4-aae0-4978-a3c1-17215f890c43"
      },
      "source": [
        "import matplotlib.image  as mpimg\n",
        "import matplotlib.pyplot as plt\n",
        "\n",
        "#-----------------------------------------------------------\n",
        "# Retrieve a list of list results on training and test data\n",
        "# sets for each training epoch\n",
        "#-----------------------------------------------------------\n",
        "acc=history.history['accuracy']\n",
        "val_acc=history.history['val_accuracy']\n",
        "loss=history.history['loss']\n",
        "val_loss=history.history['val_loss']\n",
        "\n",
        "epochs=range(len(acc)) # Get number of epochs\n",
        "\n",
        "#------------------------------------------------\n",
        "# Plot training and validation accuracy per epoch\n",
        "#------------------------------------------------\n",
        "plt.plot(epochs, acc, 'r')\n",
        "plt.plot(epochs, val_acc, 'b')\n",
        "plt.title('Training and validation accuracy')\n",
        "plt.xlabel(\"Epochs\")\n",
        "plt.ylabel(\"Accuracy\")\n",
        "plt.legend([\"Accuracy\", \"Validation Accuracy\"])\n",
        "\n",
        "plt.figure()\n",
        "\n",
        "#------------------------------------------------\n",
        "# Plot training and validation loss per epoch\n",
        "#------------------------------------------------\n",
        "plt.plot(epochs, loss, 'r')\n",
        "plt.plot(epochs, val_loss, 'b')\n",
        "plt.title('Training and validation loss')\n",
        "plt.xlabel(\"Epochs\")\n",
        "plt.ylabel(\"Loss\")\n",
        "plt.legend([\"Loss\", \"Validation Loss\"])\n",
        "\n",
        "plt.figure()\n",
        "\n",
        "\n",
        "# Expected Output\n",
        "# A chart where the validation loss does not increase sharply!"
      ],
      "execution_count": 1,
      "outputs": [
        {
          "output_type": "error",
          "ename": "NameError",
          "evalue": "ignored",
          "traceback": [
            "\u001b[0;31m---------------------------------------------------------------------------\u001b[0m",
            "\u001b[0;31mNameError\u001b[0m                                 Traceback (most recent call last)",
            "\u001b[0;32m<ipython-input-1-db7554fc2d0e>\u001b[0m in \u001b[0;36m<module>\u001b[0;34m()\u001b[0m\n\u001b[1;32m      6\u001b[0m \u001b[0;31m# sets for each training epoch\u001b[0m\u001b[0;34m\u001b[0m\u001b[0;34m\u001b[0m\u001b[0;34m\u001b[0m\u001b[0m\n\u001b[1;32m      7\u001b[0m \u001b[0;31m#-----------------------------------------------------------\u001b[0m\u001b[0;34m\u001b[0m\u001b[0;34m\u001b[0m\u001b[0;34m\u001b[0m\u001b[0m\n\u001b[0;32m----> 8\u001b[0;31m \u001b[0macc\u001b[0m\u001b[0;34m=\u001b[0m\u001b[0mhistory\u001b[0m\u001b[0;34m.\u001b[0m\u001b[0mhistory\u001b[0m\u001b[0;34m[\u001b[0m\u001b[0;34m'accuracy'\u001b[0m\u001b[0;34m]\u001b[0m\u001b[0;34m\u001b[0m\u001b[0;34m\u001b[0m\u001b[0m\n\u001b[0m\u001b[1;32m      9\u001b[0m \u001b[0mval_acc\u001b[0m\u001b[0;34m=\u001b[0m\u001b[0mhistory\u001b[0m\u001b[0;34m.\u001b[0m\u001b[0mhistory\u001b[0m\u001b[0;34m[\u001b[0m\u001b[0;34m'val_accuracy'\u001b[0m\u001b[0;34m]\u001b[0m\u001b[0;34m\u001b[0m\u001b[0;34m\u001b[0m\u001b[0m\n\u001b[1;32m     10\u001b[0m \u001b[0mloss\u001b[0m\u001b[0;34m=\u001b[0m\u001b[0mhistory\u001b[0m\u001b[0;34m.\u001b[0m\u001b[0mhistory\u001b[0m\u001b[0;34m[\u001b[0m\u001b[0;34m'loss'\u001b[0m\u001b[0;34m]\u001b[0m\u001b[0;34m\u001b[0m\u001b[0;34m\u001b[0m\u001b[0m\n",
            "\u001b[0;31mNameError\u001b[0m: name 'history' is not defined"
          ]
        }
      ]
    }
  ]
}